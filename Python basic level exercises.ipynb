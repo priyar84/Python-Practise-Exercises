{
 "cells": [
  {
   "cell_type": "markdown",
   "id": "8d71a72e",
   "metadata": {},
   "source": [
    "# Basic Python Practice exercises:"
   ]
  },
  {
   "cell_type": "code",
   "execution_count": 1,
   "id": "57c3dc14",
   "metadata": {},
   "outputs": [
    {
     "name": "stdout",
     "output_type": "stream",
     "text": [
      "Python\n"
     ]
    }
   ],
   "source": [
    "print('Python')"
   ]
  },
  {
   "cell_type": "code",
   "execution_count": 3,
   "id": "0cc7a5cf",
   "metadata": {},
   "outputs": [
    {
     "data": {
      "text/plain": [
       "2"
      ]
     },
     "execution_count": 3,
     "metadata": {},
     "output_type": "execute_result"
    }
   ],
   "source": [
    "1+1"
   ]
  },
  {
   "cell_type": "code",
   "execution_count": 2,
   "id": "9908ff81",
   "metadata": {},
   "outputs": [
    {
     "data": {
      "text/plain": [
       "'Python'"
      ]
     },
     "execution_count": 2,
     "metadata": {},
     "output_type": "execute_result"
    }
   ],
   "source": [
    "\"Python\""
   ]
  },
  {
   "cell_type": "code",
   "execution_count": 3,
   "id": "14da4d2c",
   "metadata": {},
   "outputs": [
    {
     "data": {
      "text/plain": [
       "' Av-Priya'"
      ]
     },
     "execution_count": 3,
     "metadata": {},
     "output_type": "execute_result"
    }
   ],
   "source": [
    "\" Av-Priya\""
   ]
  },
  {
   "cell_type": "code",
   "execution_count": 7,
   "id": "083cbd10",
   "metadata": {},
   "outputs": [
    {
     "data": {
      "text/plain": [
       "\" wrap lot's of other quotes\""
      ]
     },
     "execution_count": 7,
     "metadata": {},
     "output_type": "execute_result"
    }
   ],
   "source": [
    "\" wrap lot's of other quotes\""
   ]
  },
  {
   "cell_type": "code",
   "execution_count": 8,
   "id": "2885638b",
   "metadata": {},
   "outputs": [
    {
     "data": {
      "text/plain": [
       "\" Avanthika's things\""
      ]
     },
     "execution_count": 8,
     "metadata": {},
     "output_type": "execute_result"
    }
   ],
   "source": [
    "\" Avanthika's things\""
   ]
  },
  {
   "cell_type": "code",
   "execution_count": 9,
   "id": "bd281e5c",
   "metadata": {},
   "outputs": [],
   "source": [
    "x=\"Avanthika\""
   ]
  },
  {
   "cell_type": "code",
   "execution_count": 10,
   "id": "df8b9b6f",
   "metadata": {},
   "outputs": [
    {
     "data": {
      "text/plain": [
       "'Avanthika'"
      ]
     },
     "execution_count": 10,
     "metadata": {},
     "output_type": "execute_result"
    }
   ],
   "source": [
    "x"
   ]
  },
  {
   "cell_type": "code",
   "execution_count": 11,
   "id": "c19bcf23",
   "metadata": {},
   "outputs": [
    {
     "name": "stdout",
     "output_type": "stream",
     "text": [
      "Avanthika\n"
     ]
    }
   ],
   "source": [
    "print(x)"
   ]
  },
  {
   "cell_type": "code",
   "execution_count": 12,
   "id": "4897d372",
   "metadata": {},
   "outputs": [
    {
     "ename": "SyntaxError",
     "evalue": "Missing parentheses in call to 'print'. Did you mean print(x)? (3945978432.py, line 1)",
     "output_type": "error",
     "traceback": [
      "\u001b[1;36m  Input \u001b[1;32mIn [12]\u001b[1;36m\u001b[0m\n\u001b[1;33m    print x\u001b[0m\n\u001b[1;37m          ^\u001b[0m\n\u001b[1;31mSyntaxError\u001b[0m\u001b[1;31m:\u001b[0m Missing parentheses in call to 'print'. Did you mean print(x)?\n"
     ]
    }
   ],
   "source": [
    "print x"
   ]
  },
  {
   "cell_type": "code",
   "execution_count": 13,
   "id": "e8d4eb25",
   "metadata": {},
   "outputs": [],
   "source": [
    "num = 12\n",
    "name = 'Priya'"
   ]
  },
  {
   "cell_type": "code",
   "execution_count": 14,
   "id": "f1f654c3",
   "metadata": {},
   "outputs": [
    {
     "data": {
      "text/plain": [
       "'my num is {} and my name is {},format(num,name)'"
      ]
     },
     "execution_count": 14,
     "metadata": {},
     "output_type": "execute_result"
    }
   ],
   "source": [
    "'my num is {} and my name is {},format(num,name)'"
   ]
  },
  {
   "cell_type": "code",
   "execution_count": 16,
   "id": "65429e65",
   "metadata": {},
   "outputs": [
    {
     "data": {
      "text/plain": [
       "'my num is 12 and my name is Priya'"
      ]
     },
     "execution_count": 16,
     "metadata": {},
     "output_type": "execute_result"
    }
   ],
   "source": [
    "'my num is {} and my name is {}'.format(num,name)"
   ]
  },
  {
   "cell_type": "code",
   "execution_count": 17,
   "id": "c20a9726",
   "metadata": {},
   "outputs": [
    {
     "name": "stdout",
     "output_type": "stream",
     "text": [
      "num is 12 and name is Priya\n"
     ]
    }
   ],
   "source": [
    "print('num is {} and name is {}'.format(num,name))"
   ]
  },
  {
   "cell_type": "code",
   "execution_count": 18,
   "id": "a0049052",
   "metadata": {},
   "outputs": [],
   "source": [
    "d={'k1':1,'k2':2}"
   ]
  },
  {
   "cell_type": "code",
   "execution_count": 19,
   "id": "ccade66e",
   "metadata": {},
   "outputs": [
    {
     "data": {
      "text/plain": [
       "{'k1': 1, 'k2': 2}"
      ]
     },
     "execution_count": 19,
     "metadata": {},
     "output_type": "execute_result"
    }
   ],
   "source": [
    "d"
   ]
  },
  {
   "cell_type": "code",
   "execution_count": 21,
   "id": "935f3548",
   "metadata": {},
   "outputs": [
    {
     "data": {
      "text/plain": [
       "1"
      ]
     },
     "execution_count": 21,
     "metadata": {},
     "output_type": "execute_result"
    }
   ],
   "source": [
    "d['k1']"
   ]
  },
  {
   "cell_type": "code",
   "execution_count": 23,
   "id": "937e04ab",
   "metadata": {},
   "outputs": [
    {
     "data": {
      "text/plain": [
       "{'k1': 1, 'k2': 2}"
      ]
     },
     "execution_count": 23,
     "metadata": {},
     "output_type": "execute_result"
    }
   ],
   "source": [
    "d"
   ]
  },
  {
   "cell_type": "code",
   "execution_count": 24,
   "id": "e25da697",
   "metadata": {},
   "outputs": [],
   "source": [
    "keys={'k1','k2'}\n",
    "values = 'alphabet'"
   ]
  },
  {
   "cell_type": "code",
   "execution_count": 25,
   "id": "fa6c82b0",
   "metadata": {},
   "outputs": [],
   "source": [
    "d=dict.fromkeys(keys,values)"
   ]
  },
  {
   "cell_type": "code",
   "execution_count": 26,
   "id": "9cbe196c",
   "metadata": {},
   "outputs": [
    {
     "data": {
      "text/plain": [
       "{'k2': 'alphabet', 'k1': 'alphabet'}"
      ]
     },
     "execution_count": 26,
     "metadata": {},
     "output_type": "execute_result"
    }
   ],
   "source": [
    "d"
   ]
  },
  {
   "cell_type": "code",
   "execution_count": 28,
   "id": "7be7cdd1",
   "metadata": {},
   "outputs": [
    {
     "data": {
      "text/plain": [
       "True"
      ]
     },
     "execution_count": 28,
     "metadata": {},
     "output_type": "execute_result"
    }
   ],
   "source": [
    "\"Hi\"==\"Hi\""
   ]
  },
  {
   "cell_type": "code",
   "execution_count": 29,
   "id": "e74b3968",
   "metadata": {},
   "outputs": [
    {
     "data": {
      "text/plain": [
       "False"
      ]
     },
     "execution_count": 29,
     "metadata": {},
     "output_type": "execute_result"
    }
   ],
   "source": [
    "\"Hi\"==\"hi\""
   ]
  },
  {
   "cell_type": "code",
   "execution_count": 1,
   "id": "89854670",
   "metadata": {},
   "outputs": [
    {
     "data": {
      "text/plain": [
       "2401"
      ]
     },
     "execution_count": 1,
     "metadata": {},
     "output_type": "execute_result"
    }
   ],
   "source": [
    "7**4"
   ]
  },
  {
   "cell_type": "code",
   "execution_count": 2,
   "id": "ab5dbfa4",
   "metadata": {},
   "outputs": [],
   "source": [
    "s = \"Hi there Sam!\""
   ]
  },
  {
   "cell_type": "code",
   "execution_count": 5,
   "id": "dba221f5",
   "metadata": {},
   "outputs": [],
   "source": [
    "split_list=s.split( )"
   ]
  },
  {
   "cell_type": "code",
   "execution_count": 6,
   "id": "b6434be3",
   "metadata": {},
   "outputs": [
    {
     "data": {
      "text/plain": [
       "['Hi', 'there', 'Sam!']"
      ]
     },
     "execution_count": 6,
     "metadata": {},
     "output_type": "execute_result"
    }
   ],
   "source": [
    "split_list"
   ]
  },
  {
   "cell_type": "code",
   "execution_count": 7,
   "id": "112a87d8",
   "metadata": {},
   "outputs": [],
   "source": [
    "s1=\"Hi there dad!\""
   ]
  },
  {
   "cell_type": "code",
   "execution_count": 8,
   "id": "eb8dae5b",
   "metadata": {},
   "outputs": [],
   "source": [
    "split_list1=s1.split( )"
   ]
  },
  {
   "cell_type": "code",
   "execution_count": 9,
   "id": "84decc1a",
   "metadata": {},
   "outputs": [
    {
     "data": {
      "text/plain": [
       "['Hi', 'there', 'dad!']"
      ]
     },
     "execution_count": 9,
     "metadata": {},
     "output_type": "execute_result"
    }
   ],
   "source": [
    "split_list1"
   ]
  },
  {
   "cell_type": "code",
   "execution_count": 10,
   "id": "6aa0202b",
   "metadata": {},
   "outputs": [],
   "source": [
    "planet = \"Earth\"\n",
    "diameter = 12742"
   ]
  },
  {
   "cell_type": "code",
   "execution_count": 12,
   "id": "20bf1896",
   "metadata": {},
   "outputs": [
    {
     "name": "stdout",
     "output_type": "stream",
     "text": [
      "The diameter of Earth is 12742 kilometers.\n"
     ]
    }
   ],
   "source": [
    "print(\"The diameter of {} is {} kilometers.\".format(planet,diameter))"
   ]
  },
  {
   "cell_type": "code",
   "execution_count": 13,
   "id": "e458cb5c",
   "metadata": {},
   "outputs": [],
   "source": [
    "lst = [1,2,[3,4],[5,[100,200,['hello']],23,11],1,7]"
   ]
  },
  {
   "cell_type": "code",
   "execution_count": 15,
   "id": "33581063",
   "metadata": {},
   "outputs": [
    {
     "data": {
      "text/plain": [
       "2"
      ]
     },
     "execution_count": 15,
     "metadata": {},
     "output_type": "execute_result"
    }
   ],
   "source": [
    "lst[1]"
   ]
  },
  {
   "cell_type": "code",
   "execution_count": 16,
   "id": "27dbd9e1",
   "metadata": {},
   "outputs": [
    {
     "data": {
      "text/plain": [
       "7"
      ]
     },
     "execution_count": 16,
     "metadata": {},
     "output_type": "execute_result"
    }
   ],
   "source": [
    "lst[5]"
   ]
  },
  {
   "cell_type": "code",
   "execution_count": 17,
   "id": "488fd55a",
   "metadata": {},
   "outputs": [
    {
     "data": {
      "text/plain": [
       "list[4]"
      ]
     },
     "execution_count": 17,
     "metadata": {},
     "output_type": "execute_result"
    }
   ],
   "source": [
    "list[4]"
   ]
  },
  {
   "cell_type": "code",
   "execution_count": 18,
   "id": "8efb4162",
   "metadata": {},
   "outputs": [
    {
     "data": {
      "text/plain": [
       "1"
      ]
     },
     "execution_count": 18,
     "metadata": {},
     "output_type": "execute_result"
    }
   ],
   "source": [
    "lst[4]"
   ]
  },
  {
   "cell_type": "code",
   "execution_count": 19,
   "id": "6c8ff1a5",
   "metadata": {},
   "outputs": [
    {
     "data": {
      "text/plain": [
       "[5, [100, 200, ['hello']], 23, 11]"
      ]
     },
     "execution_count": 19,
     "metadata": {},
     "output_type": "execute_result"
    }
   ],
   "source": [
    "lst[3]"
   ]
  },
  {
   "cell_type": "code",
   "execution_count": 20,
   "id": "473bda7b",
   "metadata": {},
   "outputs": [
    {
     "data": {
      "text/plain": [
       "[3, 4]"
      ]
     },
     "execution_count": 20,
     "metadata": {},
     "output_type": "execute_result"
    }
   ],
   "source": [
    "lst[2]"
   ]
  },
  {
   "cell_type": "code",
   "execution_count": 21,
   "id": "35d60739",
   "metadata": {},
   "outputs": [
    {
     "data": {
      "text/plain": [
       "[[5, [100, 200, ['hello']], 23, 11]]"
      ]
     },
     "execution_count": 21,
     "metadata": {},
     "output_type": "execute_result"
    }
   ],
   "source": [
    "lst[3:4]"
   ]
  },
  {
   "cell_type": "code",
   "execution_count": 22,
   "id": "4f35d617",
   "metadata": {},
   "outputs": [
    {
     "data": {
      "text/plain": [
       "11"
      ]
     },
     "execution_count": 22,
     "metadata": {},
     "output_type": "execute_result"
    }
   ],
   "source": [
    "lst[3][3]"
   ]
  },
  {
   "cell_type": "code",
   "execution_count": 23,
   "id": "9bec8f29",
   "metadata": {},
   "outputs": [
    {
     "data": {
      "text/plain": [
       "23"
      ]
     },
     "execution_count": 23,
     "metadata": {},
     "output_type": "execute_result"
    }
   ],
   "source": [
    "lst[3][2]"
   ]
  },
  {
   "cell_type": "code",
   "execution_count": 25,
   "id": "98f576aa",
   "metadata": {},
   "outputs": [
    {
     "data": {
      "text/plain": [
       "[100, 200, ['hello']]"
      ]
     },
     "execution_count": 25,
     "metadata": {},
     "output_type": "execute_result"
    }
   ],
   "source": [
    "lst[3][1]"
   ]
  },
  {
   "cell_type": "code",
   "execution_count": 26,
   "id": "6ae8fa52",
   "metadata": {},
   "outputs": [
    {
     "data": {
      "text/plain": [
       "['hello']"
      ]
     },
     "execution_count": 26,
     "metadata": {},
     "output_type": "execute_result"
    }
   ],
   "source": [
    "lst[3][1][2]"
   ]
  },
  {
   "cell_type": "code",
   "execution_count": 27,
   "id": "f26e989a",
   "metadata": {},
   "outputs": [
    {
     "data": {
      "text/plain": [
       "'hello'"
      ]
     },
     "execution_count": 27,
     "metadata": {},
     "output_type": "execute_result"
    }
   ],
   "source": [
    "lst[3][1][2][0]"
   ]
  },
  {
   "cell_type": "code",
   "execution_count": 28,
   "id": "3c202819",
   "metadata": {},
   "outputs": [],
   "source": [
    "d = {'k1':[1,2,3,{'tricky':['oh','man','inception',{'target':[1,2,3,'hello']}]}]}"
   ]
  },
  {
   "cell_type": "code",
   "execution_count": 30,
   "id": "7e52a501",
   "metadata": {},
   "outputs": [
    {
     "data": {
      "text/plain": [
       "[1,\n",
       " 2,\n",
       " 3,\n",
       " {'tricky': ['oh', 'man', 'inception', {'target': [1, 2, 3, 'hello']}]}]"
      ]
     },
     "execution_count": 30,
     "metadata": {},
     "output_type": "execute_result"
    }
   ],
   "source": [
    "d['k1']"
   ]
  },
  {
   "cell_type": "code",
   "execution_count": 32,
   "id": "2c120f3c",
   "metadata": {},
   "outputs": [
    {
     "data": {
      "text/plain": [
       "{'tricky': ['oh', 'man', 'inception', {'target': [1, 2, 3, 'hello']}]}"
      ]
     },
     "execution_count": 32,
     "metadata": {},
     "output_type": "execute_result"
    }
   ],
   "source": [
    "d['k1'][3]"
   ]
  },
  {
   "cell_type": "code",
   "execution_count": 38,
   "id": "b50d3e29",
   "metadata": {},
   "outputs": [],
   "source": [
    "def domainGet(email):\n",
    "    return email.split('@')[-1]"
   ]
  },
  {
   "cell_type": "code",
   "execution_count": 39,
   "id": "1f514bbd",
   "metadata": {},
   "outputs": [
    {
     "data": {
      "text/plain": [
       "'domain.com'"
      ]
     },
     "execution_count": 39,
     "metadata": {},
     "output_type": "execute_result"
    }
   ],
   "source": [
    "domainGet('user@domain.com')"
   ]
  },
  {
   "cell_type": "code",
   "execution_count": 40,
   "id": "913127dd",
   "metadata": {},
   "outputs": [],
   "source": [
    "st='Is there a dog there?'"
   ]
  },
  {
   "cell_type": "code",
   "execution_count": 47,
   "id": "50916478",
   "metadata": {},
   "outputs": [
    {
     "data": {
      "text/plain": [
       "True"
      ]
     },
     "execution_count": 47,
     "metadata": {},
     "output_type": "execute_result"
    }
   ],
   "source": [
    "finddog('Is there a dog there?')"
   ]
  },
  {
   "cell_type": "code",
   "execution_count": 48,
   "id": "0734dad3",
   "metadata": {},
   "outputs": [],
   "source": [
    "st1='This dog runs faster than the other dog dude!'"
   ]
  },
  {
   "cell_type": "code",
   "execution_count": 52,
   "id": "253d88aa",
   "metadata": {},
   "outputs": [],
   "source": [
    "def dogwordcount(st1):\n",
    " count=0\n",
    " for word in st1.lower().split():\n",
    "        if word == 'dog':\n",
    "           count+=1\n",
    " return count"
   ]
  },
  {
   "cell_type": "code",
   "execution_count": 53,
   "id": "49c9318f",
   "metadata": {},
   "outputs": [
    {
     "data": {
      "text/plain": [
       "2"
      ]
     },
     "execution_count": 53,
     "metadata": {},
     "output_type": "execute_result"
    }
   ],
   "source": [
    "dogwordcount(st1)"
   ]
  },
  {
   "cell_type": "code",
   "execution_count": 81,
   "id": "2203d560",
   "metadata": {},
   "outputs": [],
   "source": [
    "def speedingtkt(is_birthday,speed):\n",
    "    if is_birthday == True:\n",
    "        print(\"Birthday Excuse\")\n",
    "    \n",
    "    if speed > 80:\n",
    "        return 'Big Ticket'\n",
    "    elif speed > 60:\n",
    "        return 'Small Ticket'\n",
    "    else:\n",
    "        return 'No Ticket'"
   ]
  },
  {
   "cell_type": "code",
   "execution_count": 83,
   "id": "cf18ee54",
   "metadata": {},
   "outputs": [
    {
     "data": {
      "text/plain": [
       "'No Ticket'"
      ]
     },
     "execution_count": 83,
     "metadata": {},
     "output_type": "execute_result"
    }
   ],
   "source": [
    "speedingtkt(False,12)"
   ]
  },
  {
   "cell_type": "code",
   "execution_count": 2,
   "id": "c2d705c6",
   "metadata": {},
   "outputs": [
    {
     "name": "stdout",
     "output_type": "stream",
     "text": [
      "['A', 'B', 'C', 'D']\n"
     ]
    }
   ],
   "source": [
    "li=['A']\n",
    "li.extend('BCD')\n",
    "print(li)"
   ]
  },
  {
   "cell_type": "code",
   "execution_count": 4,
   "id": "9b53b0d9",
   "metadata": {},
   "outputs": [
    {
     "name": "stdout",
     "output_type": "stream",
     "text": [
      "chpcplate\n"
     ]
    }
   ],
   "source": [
    "s='chocolate'\n",
    "print(s.replace('o','p'))"
   ]
  },
  {
   "cell_type": "code",
   "execution_count": 7,
   "id": "8149e113",
   "metadata": {},
   "outputs": [],
   "source": [
    "def sign(num):\n",
    " if (num >0):\n",
    "    print(\"Positive\")"
   ]
  },
  {
   "cell_type": "code",
   "execution_count": 8,
   "id": "de16aa7c",
   "metadata": {},
   "outputs": [
    {
     "name": "stdout",
     "output_type": "stream",
     "text": [
      "10\n"
     ]
    }
   ],
   "source": [
    "def my_func(a,b):\n",
    "    return a+b\n",
    "\n",
    "result = my_func(2,3) * 2\n",
    "print(result)"
   ]
  },
  {
   "cell_type": "code",
   "execution_count": 10,
   "id": "524e3b2b",
   "metadata": {},
   "outputs": [
    {
     "name": "stdout",
     "output_type": "stream",
     "text": [
      "True\n"
     ]
    }
   ],
   "source": [
    "result=10%2==0\n",
    "print(result)"
   ]
  },
  {
   "cell_type": "code",
   "execution_count": 2,
   "id": "3a030524",
   "metadata": {},
   "outputs": [
    {
     "name": "stdout",
     "output_type": "stream",
     "text": [
      "dict_keys(['a', 'b', 'c'])\n"
     ]
    }
   ],
   "source": [
    "my_dict={\"a\":1,\"b\":2,\"c\":3}\n",
    "print(my_dict.keys())"
   ]
  },
  {
   "cell_type": "code",
   "execution_count": 4,
   "id": "e5965ec4",
   "metadata": {},
   "outputs": [
    {
     "name": "stdout",
     "output_type": "stream",
     "text": [
      "[1]\n",
      "[1, 1]\n"
     ]
    }
   ],
   "source": [
    "def foo(x=[]):\n",
    "    x.append(1)\n",
    "    return x\n",
    "\n",
    "print(foo())\n",
    "print(foo())"
   ]
  },
  {
   "cell_type": "code",
   "execution_count": 7,
   "id": "30d42d20",
   "metadata": {},
   "outputs": [
    {
     "name": "stdout",
     "output_type": "stream",
     "text": [
      "114\n"
     ]
    }
   ],
   "source": [
    "num=[2,3,4,5]\n",
    "print(sum(num,100))"
   ]
  },
  {
   "cell_type": "code",
   "execution_count": null,
   "id": "22d5c2a0",
   "metadata": {},
   "outputs": [],
   "source": []
  }
 ],
 "metadata": {
  "kernelspec": {
   "display_name": "Python 3 (ipykernel)",
   "language": "python",
   "name": "python3"
  },
  "language_info": {
   "codemirror_mode": {
    "name": "ipython",
    "version": 3
   },
   "file_extension": ".py",
   "mimetype": "text/x-python",
   "name": "python",
   "nbconvert_exporter": "python",
   "pygments_lexer": "ipython3",
   "version": "3.9.12"
  }
 },
 "nbformat": 4,
 "nbformat_minor": 5
}
